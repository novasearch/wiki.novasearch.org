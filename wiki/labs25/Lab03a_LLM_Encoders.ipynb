{
 "cells": [
  {
   "cell_type": "markdown",
   "metadata": {},
   "source": [
    "# Large Language Encoder Models\n",
    "\n",
    "In this tutorial you will explore the Transformer encoder model delving into the **self-attention mechanism**.\n"
   ]
  },
  {
   "cell_type": "markdown",
   "metadata": {},
   "source": [
    "## Imports and definitions"
   ]
  },
  {
   "cell_type": "code",
   "execution_count": 2,
   "metadata": {
    "id": "juNXbazl16D5"
   },
   "outputs": [],
   "source": [
    "import numpy as np\n",
    "import pprint\n",
    "from sklearn.manifold import TSNE\n",
    "from sklearn.decomposition import PCA\n",
    "import torch\n",
    "import transformers\n",
    "from transformers import AutoTokenizer, AutoConfig, AutoModelForSequenceClassification\n",
    "from bertviz import model_view, head_view\n",
    "\n",
    "# Get the interactive Tools for Matplotlib\n",
    "#%matplotlib notebook\n",
    "#%matplotlib inline\n",
    "import matplotlib.pyplot as plt\n",
    "plt.style.use('ggplot')\n",
    "\n"
   ]
  },
  {
   "cell_type": "code",
   "execution_count": 3,
   "metadata": {
    "id": "fOQQ6zwO19Bg"
   },
   "outputs": [],
   "source": [
    "def call_html():\n",
    "  import IPython\n",
    "  display(IPython.core.display.HTML('''\n",
    "        <script src=\"/static/components/requirejs/require.js\"></script>\n",
    "        <script>\n",
    "          requirejs.config({\n",
    "            paths: {\n",
    "              base: '/static/base',\n",
    "              \"d3\": \"https://cdnjs.cloudflare.com/ajax/libs/d3/5.7.0/d3.min\",\n",
    "              jquery: '//ajax.googleapis.com/ajax/libs/jquery/2.0.0/jquery.min',\n",
    "            },\n",
    "          });\n",
    "        </script>\n",
    "        '''))\n"
   ]
  },
  {
   "cell_type": "markdown",
   "metadata": {},
   "source": [
    "# Bidirectional Encoder Representations Transformers\n",
    "\n",
    "There are many models that build on top of the Bidirection Encoder Representations Transformer architecture (**BERT**). The HuggingFace repository of models the standard place where you can find models for a wide range of tasks. These are stable models that were made available by researchers and the industry.\n",
    "\n",
    "   https://huggingface.co/models\n",
    "\n",
    "The example below is a popular BERT model. It uses a cross-encoder trained on the Next Sentence Prediction task and Masked Language Model task. It is fine-tuned on the MSMARCO dataset as a retrieval model.\n",
    "\n",
    "   https://github.com/UKPLab/sentence-transformers/blob/master/docs/pretrained-models/ce-msmarco.md\n"
   ]
  },
  {
   "cell_type": "code",
   "execution_count": 4,
   "metadata": {
    "colab": {
     "base_uri": "https://localhost:8080/"
    },
    "id": "p6E3k5NJuO6W",
    "outputId": "e8d8f962-185e-4c6d-9eae-fc236e5a0d06"
   },
   "outputs": [],
   "source": [
    "model_path = 'cross-encoder/ms-marco-MiniLM-L-12-v2'\n",
    "model_path = 'nboost/pt-bert-base-uncased-msmarco'\n",
    "CLS_token = \"[CLS]\"\n",
    "SEP_token = \"[SEP]\""
   ]
  },
  {
   "cell_type": "markdown",
   "metadata": {},
   "source": [
    "The Transformer encoder is loaded in two parts:\n",
    " - **Tokenizer:** First, you need to load the corresponding tokenizer. This will pre-process the input text and split it into tokens.\n",
    " - **Model:** Second, the model should be loaded according to a predefined configuration. The model will then assign a embedding to each token and process the entire input sequentially throughout the entire set of layers. "
   ]
  },
  {
   "cell_type": "code",
   "execution_count": 5,
   "metadata": {
    "colab": {
     "base_uri": "https://localhost:8080/",
     "height": 410
    },
    "id": "RYKgsb3IkElT",
    "outputId": "862994e3-7daa-4ddf-d471-b66eaddb6385"
   },
   "outputs": [],
   "source": [
    "transformers.logging.set_verbosity_warning()\n",
    "\n",
    "tokenizer = AutoTokenizer.from_pretrained(model_path)\n",
    "config = AutoConfig.from_pretrained(model_path,  output_hidden_states=True, output_attentions=True)  \n",
    "model = AutoModelForSequenceClassification.from_pretrained(model_path, config=config)"
   ]
  },
  {
   "cell_type": "markdown",
   "metadata": {},
   "source": [
    "After loading the model, you can inspect its architecture. Tipycally, each model is composed by the embedding layer, the self-attention layers and the output layers. The output layer is always task specific. "
   ]
  },
  {
   "cell_type": "code",
   "execution_count": 6,
   "metadata": {
    "tags": []
   },
   "outputs": [
    {
     "data": {
      "text/plain": [
       "BertForSequenceClassification(\n",
       "  (bert): BertModel(\n",
       "    (embeddings): BertEmbeddings(\n",
       "      (word_embeddings): Embedding(30522, 768, padding_idx=0)\n",
       "      (position_embeddings): Embedding(512, 768)\n",
       "      (token_type_embeddings): Embedding(2, 768)\n",
       "      (LayerNorm): LayerNorm((768,), eps=1e-12, elementwise_affine=True)\n",
       "      (dropout): Dropout(p=0.1, inplace=False)\n",
       "    )\n",
       "    (encoder): BertEncoder(\n",
       "      (layer): ModuleList(\n",
       "        (0-11): 12 x BertLayer(\n",
       "          (attention): BertAttention(\n",
       "            (self): BertSdpaSelfAttention(\n",
       "              (query): Linear(in_features=768, out_features=768, bias=True)\n",
       "              (key): Linear(in_features=768, out_features=768, bias=True)\n",
       "              (value): Linear(in_features=768, out_features=768, bias=True)\n",
       "              (dropout): Dropout(p=0.1, inplace=False)\n",
       "            )\n",
       "            (output): BertSelfOutput(\n",
       "              (dense): Linear(in_features=768, out_features=768, bias=True)\n",
       "              (LayerNorm): LayerNorm((768,), eps=1e-12, elementwise_affine=True)\n",
       "              (dropout): Dropout(p=0.1, inplace=False)\n",
       "            )\n",
       "          )\n",
       "          (intermediate): BertIntermediate(\n",
       "            (dense): Linear(in_features=768, out_features=3072, bias=True)\n",
       "            (intermediate_act_fn): GELUActivation()\n",
       "          )\n",
       "          (output): BertOutput(\n",
       "            (dense): Linear(in_features=3072, out_features=768, bias=True)\n",
       "            (LayerNorm): LayerNorm((768,), eps=1e-12, elementwise_affine=True)\n",
       "            (dropout): Dropout(p=0.1, inplace=False)\n",
       "          )\n",
       "        )\n",
       "      )\n",
       "    )\n",
       "    (pooler): BertPooler(\n",
       "      (dense): Linear(in_features=768, out_features=768, bias=True)\n",
       "      (activation): Tanh()\n",
       "    )\n",
       "  )\n",
       "  (dropout): Dropout(p=0.1, inplace=False)\n",
       "  (classifier): Linear(in_features=768, out_features=2, bias=True)\n",
       ")"
      ]
     },
     "execution_count": 6,
     "metadata": {},
     "output_type": "execute_result"
    }
   ],
   "source": [
    "model"
   ]
  },
  {
   "cell_type": "markdown",
   "metadata": {},
   "source": [
    "# Next Sentence Prediction \n",
    "\n",
    "## Tokenization\n",
    "\n",
    "See here for details: https://huggingface.co/docs/transformers/tokenizer_summary"
   ]
  },
  {
   "cell_type": "code",
   "execution_count": 7,
   "metadata": {},
   "outputs": [
    {
     "name": "stdout",
     "output_type": "stream",
     "text": [
      "{'attention_mask': tensor([[1, 1, 1, 1, 1, 1, 1, 1, 1, 1, 1, 1, 1, 1, 1, 1, 1, 1, 1, 1, 1, 1, 1, 1,\n",
      "         1, 1, 1, 1, 1, 1, 1, 1, 1, 1],\n",
      "        [1, 1, 1, 1, 1, 1, 1, 1, 1, 1, 1, 1, 1, 1, 1, 1, 1, 1, 1, 1, 1, 1, 0, 0,\n",
      "         0, 0, 0, 0, 0, 0, 0, 0, 0, 0]]),\n",
      " 'input_ids': tensor([[  101,  2129,  2116,  2111,  2444,  1999,  4068,  1029,   102,  4068,\n",
      "          2038,  1037,  2313,  1997,  1017,  1010, 19611,  1010,  6021,  2487,\n",
      "          5068,  4864,  1999,  2019,  2181,  1997,  6486,  2487,  1012,  6445,\n",
      "          2675,  7338,  1012,   102],\n",
      "        [  101,  2129,  2116,  2111,  2444,  1999,  4068,  1029,   102,  2047,\n",
      "          2259,  2103,  2003,  3297,  2005,  1996,  4956,  2688,  1997,  2396,\n",
      "          1012,   102,     0,     0,     0,     0,     0,     0,     0,     0,\n",
      "             0,     0,     0,     0]]),\n",
      " 'token_type_ids': tensor([[0, 0, 0, 0, 0, 0, 0, 0, 0, 1, 1, 1, 1, 1, 1, 1, 1, 1, 1, 1, 1, 1, 1, 1,\n",
      "         1, 1, 1, 1, 1, 1, 1, 1, 1, 1],\n",
      "        [0, 0, 0, 0, 0, 0, 0, 0, 0, 1, 1, 1, 1, 1, 1, 1, 1, 1, 1, 1, 1, 1, 0, 0,\n",
      "         0, 0, 0, 0, 0, 0, 0, 0, 0, 0]])}\n"
     ]
    }
   ],
   "source": [
    "sentence_a = [\"How many people live in Berlin?\", \"How many people live in Berlin?\"]\n",
    "sentence_b =  [\"Berlin has a population of 3,520,031 registered inhabitants in an area of 891.82 square kilometers.\", \"New York City is famous for the Metropolitan Museum of Art.\"]\n",
    "#inputs = tokenizer.encode_plus(sentence_a, sentence_b, return_tensors='pt', add_special_tokens=True, max_length = 512, padding=True, truncation = True)\n",
    "inputs = tokenizer(sentence_a, sentence_b, return_tensors='pt', add_special_tokens=True, max_length = 512, padding=True, truncation = True)\n",
    "\n",
    "pprint.pprint(inputs)"
   ]
  },
  {
   "cell_type": "code",
   "execution_count": 8,
   "metadata": {},
   "outputs": [
    {
     "name": "stdout",
     "output_type": "stream",
     "text": [
      "[CLS] how many people live in berlin? [SEP] berlin has a population of 3, 520, 031 registered inhabitants in an area of 891. 82 square kilometers. [SEP]\n",
      "[CLS] how many people live in berlin? [SEP] new york city is famous for the metropolitan museum of art. [SEP] [PAD] [PAD] [PAD] [PAD] [PAD] [PAD] [PAD] [PAD] [PAD] [PAD] [PAD] [PAD]\n"
     ]
    }
   ],
   "source": [
    "print(tokenizer.decode(inputs[\"input_ids\"][0].tolist()))\n",
    "print(tokenizer.decode(inputs[\"input_ids\"][1].tolist()))\n"
   ]
  },
  {
   "cell_type": "code",
   "execution_count": 9,
   "metadata": {},
   "outputs": [
    {
     "name": "stdout",
     "output_type": "stream",
     "text": [
      "[101,\n",
      " 2129,\n",
      " 2116,\n",
      " 2111,\n",
      " 2444,\n",
      " 1999,\n",
      " 4068,\n",
      " 1029,\n",
      " 102,\n",
      " 4068,\n",
      " 2038,\n",
      " 1037,\n",
      " 2313,\n",
      " 1997,\n",
      " 1017,\n",
      " 1010,\n",
      " 19611,\n",
      " 1010,\n",
      " 6021,\n",
      " 2487,\n",
      " 5068,\n",
      " 4864,\n",
      " 1999,\n",
      " 2019,\n",
      " 2181,\n",
      " 1997,\n",
      " 6486,\n",
      " 2487,\n",
      " 1012,\n",
      " 6445,\n",
      " 2675,\n",
      " 7338,\n",
      " 1012,\n",
      " 102]\n"
     ]
    }
   ],
   "source": [
    "input_ids = inputs['input_ids']\n",
    "input_id_list = input_ids[0].tolist() # Batch index 0\n",
    "pprint.pprint(input_id_list)"
   ]
  },
  {
   "cell_type": "code",
   "execution_count": 10,
   "metadata": {},
   "outputs": [
    {
     "name": "stdout",
     "output_type": "stream",
     "text": [
      "['[CLS]',\n",
      " 'how',\n",
      " 'many',\n",
      " 'people',\n",
      " 'live',\n",
      " 'in',\n",
      " 'berlin',\n",
      " '?',\n",
      " '[SEP]',\n",
      " 'berlin',\n",
      " 'has',\n",
      " 'a',\n",
      " 'population',\n",
      " 'of',\n",
      " '3',\n",
      " ',',\n",
      " '520',\n",
      " ',',\n",
      " '03',\n",
      " '##1',\n",
      " 'registered',\n",
      " 'inhabitants',\n",
      " 'in',\n",
      " 'an',\n",
      " 'area',\n",
      " 'of',\n",
      " '89',\n",
      " '##1',\n",
      " '.',\n",
      " '82',\n",
      " 'square',\n",
      " 'kilometers',\n",
      " '.',\n",
      " '[SEP]']\n"
     ]
    }
   ],
   "source": [
    "input_tokens_list = tokenizer.convert_ids_to_tokens(input_id_list)\n",
    "pprint.pprint(input_tokens_list)"
   ]
  },
  {
   "cell_type": "code",
   "execution_count": 11,
   "metadata": {},
   "outputs": [],
   "source": [
    "#inputs = tokenizer(sentence_a, sentence_b, return_offsets_mapping = True, return_tensors='pt', add_special_tokens=True, max_length = 512, padding=True, truncation = True)\n",
    "inputs = tokenizer(sentence_a, sentence_b, return_tensors='pt', add_special_tokens=True, max_length = 512, padding=True, truncation = True)\n"
   ]
  },
  {
   "cell_type": "code",
   "execution_count": 12,
   "metadata": {},
   "outputs": [
    {
     "data": {
      "text/plain": [
       "{'input_ids': tensor([[  101,  2129,  2116,  2111,  2444,  1999,  4068,  1029,   102,  4068,\n",
       "          2038,  1037,  2313,  1997,  1017,  1010, 19611,  1010,  6021,  2487,\n",
       "          5068,  4864,  1999,  2019,  2181,  1997,  6486,  2487,  1012,  6445,\n",
       "          2675,  7338,  1012,   102],\n",
       "        [  101,  2129,  2116,  2111,  2444,  1999,  4068,  1029,   102,  2047,\n",
       "          2259,  2103,  2003,  3297,  2005,  1996,  4956,  2688,  1997,  2396,\n",
       "          1012,   102,     0,     0,     0,     0,     0,     0,     0,     0,\n",
       "             0,     0,     0,     0]]), 'token_type_ids': tensor([[0, 0, 0, 0, 0, 0, 0, 0, 0, 1, 1, 1, 1, 1, 1, 1, 1, 1, 1, 1, 1, 1, 1, 1,\n",
       "         1, 1, 1, 1, 1, 1, 1, 1, 1, 1],\n",
       "        [0, 0, 0, 0, 0, 0, 0, 0, 0, 1, 1, 1, 1, 1, 1, 1, 1, 1, 1, 1, 1, 1, 0, 0,\n",
       "         0, 0, 0, 0, 0, 0, 0, 0, 0, 0]]), 'attention_mask': tensor([[1, 1, 1, 1, 1, 1, 1, 1, 1, 1, 1, 1, 1, 1, 1, 1, 1, 1, 1, 1, 1, 1, 1, 1,\n",
       "         1, 1, 1, 1, 1, 1, 1, 1, 1, 1],\n",
       "        [1, 1, 1, 1, 1, 1, 1, 1, 1, 1, 1, 1, 1, 1, 1, 1, 1, 1, 1, 1, 1, 1, 0, 0,\n",
       "         0, 0, 0, 0, 0, 0, 0, 0, 0, 0]])}"
      ]
     },
     "execution_count": 12,
     "metadata": {},
     "output_type": "execute_result"
    }
   ],
   "source": [
    "inputs"
   ]
  },
  {
   "cell_type": "code",
   "execution_count": 13,
   "metadata": {},
   "outputs": [
    {
     "name": "stdout",
     "output_type": "stream",
     "text": [
      "101 \t [CLS]\n",
      "2129 \t how\n",
      "2116 \t many\n",
      "2111 \t people\n",
      "2444 \t live\n",
      "1999 \t in\n",
      "4068 \t berlin\n",
      "1029 \t ?\n",
      "102 \t [SEP]\n",
      "4068 \t berlin\n",
      "2038 \t has\n",
      "1037 \t a\n",
      "2313 \t population\n",
      "1997 \t of\n",
      "1017 \t 3\n",
      "1010 \t ,\n",
      "19611 \t 520\n",
      "1010 \t ,\n",
      "6021 \t 03\n",
      "2487 \t ##1\n",
      "5068 \t registered\n",
      "4864 \t inhabitants\n",
      "1999 \t in\n",
      "2019 \t an\n",
      "2181 \t area\n",
      "1997 \t of\n",
      "6486 \t 89\n",
      "2487 \t ##1\n",
      "1012 \t .\n",
      "6445 \t 82\n",
      "2675 \t square\n",
      "7338 \t kilometers\n",
      "1012 \t .\n",
      "102 \t [SEP]\n"
     ]
    }
   ],
   "source": [
    "res = \"\\n\".join(\"{} \\t {}\".format(x, y) for x, y in zip(input_id_list, input_tokens_list))\n",
    "print(res)"
   ]
  },
  {
   "cell_type": "markdown",
   "metadata": {},
   "source": [
    "## Model inference"
   ]
  },
  {
   "cell_type": "code",
   "execution_count": 14,
   "metadata": {},
   "outputs": [
    {
     "name": "stderr",
     "output_type": "stream",
     "text": [
      "BertSdpaSelfAttention is used but `torch.nn.functional.scaled_dot_product_attention` does not support non-absolute `position_embedding_type` or `output_attentions=True` or `head_mask`. Falling back to the manual attention implementation, but specifying the manual implementation will be required from Transformers version v5.0.0 onwards. This warning can be removed using the argument `attn_implementation=\"eager\"` when loading the model.\n"
     ]
    }
   ],
   "source": [
    "with torch.no_grad():\n",
    "    outputs = model(**inputs)"
   ]
  },
  {
   "cell_type": "code",
   "execution_count": 15,
   "metadata": {},
   "outputs": [
    {
     "data": {
      "text/plain": [
       "odict_keys(['logits', 'hidden_states', 'attentions'])"
      ]
     },
     "execution_count": 15,
     "metadata": {},
     "output_type": "execute_result"
    }
   ],
   "source": [
    "outputs.keys()"
   ]
  },
  {
   "cell_type": "markdown",
   "metadata": {},
   "source": [
    "## Hidden layer embeddings"
   ]
  },
  {
   "cell_type": "code",
   "execution_count": 16,
   "metadata": {},
   "outputs": [
    {
     "data": {
      "text/plain": [
       "13"
      ]
     },
     "execution_count": 16,
     "metadata": {},
     "output_type": "execute_result"
    }
   ],
   "source": [
    "# total number of layers embeddings\n",
    "len(outputs['hidden_states'])"
   ]
  },
  {
   "cell_type": "code",
   "execution_count": 17,
   "metadata": {},
   "outputs": [
    {
     "data": {
      "text/plain": [
       "torch.Size([34, 768])"
      ]
     },
     "execution_count": 17,
     "metadata": {},
     "output_type": "execute_result"
    }
   ],
   "source": [
    "# The format is as follow:\n",
    "# outputs['hidden_states'][layer_m][0][token_n]\n",
    "layer_m = 12\n",
    "token_n = 1\n",
    "# Get all the embeddings of one layer:\n",
    "output_embeddings = outputs['hidden_states'][layer_m][0]\n",
    "output_embeddings.shape"
   ]
  },
  {
   "cell_type": "code",
   "execution_count": 18,
   "metadata": {},
   "outputs": [
    {
     "data": {
      "text/plain": [
       "torch.Size([768])"
      ]
     },
     "execution_count": 18,
     "metadata": {},
     "output_type": "execute_result"
    }
   ],
   "source": [
    "token_throat = 2\n",
    "token_cancer = 3\n",
    "\n",
    "# Get the embedding of one particular token in one particular layer\n",
    "throat_output_embedding = outputs['hidden_states'][layer_m][0][token_throat]\n",
    "throat_output_embedding.shape"
   ]
  },
  {
   "cell_type": "code",
   "execution_count": 19,
   "metadata": {},
   "outputs": [
    {
     "data": {
      "text/plain": [
       "torch.Size([34, 768])"
      ]
     },
     "execution_count": 19,
     "metadata": {},
     "output_type": "execute_result"
    }
   ],
   "source": [
    "output_embeddings.shape"
   ]
  },
  {
   "cell_type": "code",
   "execution_count": 20,
   "metadata": {},
   "outputs": [
    {
     "data": {
      "image/png": "[encoded data removed]",
      "text/plain": [
       "<Figure size 600x600 with 1 Axes>"
      ]
     },
     "metadata": {},
     "output_type": "display_data"
    }
   ],
   "source": [
    "def display_scatterplot(data, words):\n",
    "\n",
    "    if data.shape[1] == 2:\n",
    "        twodim = data\n",
    "    else:\n",
    "        pca = PCA()\n",
    "        pca.fit(output_embeddings.detach().numpy())\n",
    "        twodim = pca.transform(data)[:,:2]\n",
    "    \n",
    "    plt.style.use('default') # https://matplotlib.org/3.5.1/gallery/style_sheets/style_sheets_reference.html\n",
    "    plt.figure(figsize=(6,6))\n",
    "    plt.scatter(twodim[:,0], twodim[:,1], edgecolors='k', c='r')\n",
    "    for word, (x,y) in zip(words, twodim):\n",
    "        plt.text(x+0.05, y+0.05, word)\n",
    "\n",
    "    return\n",
    "\n",
    "display_scatterplot(output_embeddings.detach().numpy(), input_tokens_list)"
   ]
  },
  {
   "cell_type": "markdown",
   "metadata": {},
   "source": [
    "## Extract contextual word embeddings\n",
    "\n"
   ]
  },
  {
   "cell_type": "code",
   "execution_count": 21,
   "metadata": {},
   "outputs": [
    {
     "name": "stdout",
     "output_type": "stream",
     "text": [
      "5\n",
      "Input sequence: how many people live in berlin? berlin has a population of 3, 520, 031 registered inhabitants in an area of 891. 82 square kilometers.\n",
      "The word \" berlin \" occurs in position 5 of the BERT input sequence.\n",
      "[None, 0, 1, 2, 3, 4, 5, 6, None, 0, 1, 2, 3, 4, 5, 6, 7, 8, 9, 9, 10, 11, 12, 13, 14, 15, 16, 16, 17, 18, 19, 20, 21, None]\n",
      "(array([ 6, 14]),)\n"
     ]
    }
   ],
   "source": [
    "import re\n",
    "\n",
    "def get_word_idx(sent: str, word: str):\n",
    "    tmp_lst = re.split(r' |\\?|\\.',sentence_a)\n",
    "    return tmp_lst.index(word)\n",
    "\n",
    "def get_word_vector(inputs, outputs, idx, layer):\n",
    "    \"\"\"Get a word vector by averaging the embeddings of \n",
    "       all word occurrences of that word in the input\"\"\"\n",
    "\n",
    "    # get all token idxs that belong to the word of interest\n",
    "    token_ids_word = np.where(np.array(inputs.word_ids()) == idx)\n",
    "    print(inputs.word_ids())\n",
    "    word_tokens_output = outputs.hidden_states[layer][0][token_ids_word]\n",
    "    print(token_ids_word)\n",
    "    return word_tokens_output.mean(dim=0)\n",
    "\n",
    "# The code below converts the tokens into a space delimited string.\n",
    "# This will allow computing in which position of the BERT input sequence a given word is.\n",
    "sentence_a = tokenizer.decode(inputs[\"input_ids\"][0].tolist()).replace(\"[CLS] \", '').replace(\" [SEP]\", '')\n",
    "word = \"berlin\"\n",
    "idx = get_word_idx(sentence_a, word)\n",
    "print(idx)\n",
    "print(\"Input sequence:\", sentence_a)\n",
    "print(\"The word \\\"\", word, \"\\\" occurs in position\", idx, \"of the BERT input sequence.\")\n",
    "\n",
    "word_embedding = get_word_vector(inputs, outputs, idx, 4)\n"
   ]
  },
  {
   "cell_type": "code",
   "execution_count": 22,
   "metadata": {},
   "outputs": [
    {
     "name": "stdout",
     "output_type": "stream",
     "text": [
      "how many people live in berlin?\n",
      "- - - - - - - - - - - - - - - - - - - - - - - - - - - - - - - - - - - \n",
      "INPUT SEQUENCE TOKENS:  [CLS] how many people live in berlin ? [SEP] berlin has a population of 3 , 520 , 03 ##1 registered inhabitants in an area of 89 ##1 . 82 square kilometers . [SEP]\n",
      "TARGET WORD: berlin\n",
      "TARGET SENTENCE: A\n",
      "TARGET SENTENCE WORDS [ how many people live in berlin? ]\n",
      "The word [ berlin ] occurs in position 5 of the BERT input sentence A\n",
      "The word [ berlin ] corresponds to the token(s) [6] of the BERT input sequence A\n"
     ]
    }
   ],
   "source": [
    "import torch\n",
    "import re\n",
    "from transformers import AutoTokenizer, AutoModel\n",
    "\n",
    "def get_word_vector_from_ab(inputs, outputs, word, layer = '-1', ab = 'A'):\n",
    "    \"\"\"\n",
    "    This method extracts a word embedding from the requested layer \n",
    "    for sentence_a or sentence_b. If the word is divided into tokens, \n",
    "    the word embedding will be the average of the corresponding token \n",
    "    embeddings.\n",
    "\n",
    "    NOTE: If the same word occurs multiple times in the sentence, \n",
    "    this method returns the word embedding of the first occurrence.\n",
    "\n",
    "    Keyword arguments:\n",
    "        inputs -- input passed to the transformer\n",
    "        outputs -- output of the transformer\n",
    "        word -- target word\n",
    "        layer -- layer from where the word embedding vector should \n",
    "        be extracted.\n",
    "        ab -- should be 'A' or 'B' indication if the word embedding is to be extracted \n",
    "        from sentence_a or sentence_b, i.e., query or document.\n",
    "    \"\"\"\n",
    "       \n",
    "    sep_token = np.where(np.array(inputs[\"input_ids\"][0].tolist()) == 102)[0][0]\n",
    "    if ab == 'A':\n",
    "        tokens_a = inputs[\"input_ids\"][0][1:sep_token]\n",
    "        sent = tokenizer.decode(tokens_a.tolist())\n",
    "    else:\n",
    "        tokens_b = inputs[\"input_ids\"][0][sep_token+1:-1]\n",
    "        sent = tokenizer.decode(tokens_b.tolist())\n",
    "\n",
    "    print(sent)\n",
    "    word_ids = get_word_idx(sent, word)\n",
    "\n",
    "    # get all token idxs that belong to the word of interest\n",
    "    token_ids_word = np.where(np.array(inputs.word_ids()) == word_ids)[0]\n",
    "    sep_word = np.where(np.array(inputs.word_ids()) == None)[0][1]\n",
    "\n",
    "    if ab == 'A':\n",
    "        token_pos = token_ids_word < sep_word\n",
    "    else:\n",
    "        token_pos = token_ids_word > sep_word\n",
    "        \n",
    "    token_ids_word = token_ids_word[token_pos]\n",
    "    word_tokens_output = outputs.hidden_states[layer][0][token_ids_word]\n",
    "\n",
    "    # Change this to True for inspection\n",
    "    details = True\n",
    "    if details:\n",
    "        input_id_list = input_ids[0].tolist() # Batch index 0\n",
    "        tokens = tokenizer.convert_ids_to_tokens(input_id_list)\n",
    "        str1 = \" \"\n",
    "\n",
    "        print(\"- - - - - - - - - - - - - - - - - - - - - - - - - - - - - - - - - - - \")\n",
    "        print(\"INPUT SEQUENCE TOKENS: \", str1.join(tokens))\n",
    "        print(\"TARGET WORD:\", word)\n",
    "        print(\"TARGET SENTENCE:\", ab)\n",
    "        print(\"TARGET SENTENCE WORDS [\", sent, \"]\")\n",
    "        print(\"The word [\", word, \"] occurs in position\", idx, \"of the BERT input sentence\", ab)\n",
    "        print(\"The word [\", word, \"] corresponds to the token(s)\", token_ids_word, \"of the BERT input sequence\", ab)\n",
    "\n",
    "    return word_tokens_output.mean(dim=0)\n",
    "\n",
    "\n",
    "word_embedding = get_word_vector_from_ab(inputs, outputs, \"berlin\", 4, 'A')\n"
   ]
  },
  {
   "cell_type": "code",
   "execution_count": 23,
   "metadata": {},
   "outputs": [
    {
     "data": {
      "text/plain": [
       "torch.Size([768])"
      ]
     },
     "execution_count": 23,
     "metadata": {},
     "output_type": "execute_result"
    }
   ],
   "source": [
    "word_embedding.size()"
   ]
  },
  {
   "cell_type": "markdown",
   "metadata": {},
   "source": [
    "## Self-attention matrices"
   ]
  },
  {
   "cell_type": "code",
   "execution_count": 24,
   "metadata": {},
   "outputs": [],
   "source": [
    "attention = outputs['attentions']\n",
    "\n",
    "# The format of the attention tensor is:\n",
    "#     attention[layer][sample_n][head][token1][token2]\n",
    "\n",
    "layer = 3      # Transformer layer\n",
    "sample_n = 1   # Input sample\n",
    "head = 3       # Head of the selected layer"
   ]
  },
  {
   "cell_type": "code",
   "execution_count": 25,
   "metadata": {},
   "outputs": [
    {
     "data": {
      "text/plain": [
       "tensor(0.0226)"
      ]
     },
     "execution_count": 25,
     "metadata": {},
     "output_type": "execute_result"
    }
   ],
   "source": [
    "# the score of the attention of one token vs the other token\n",
    "attention[layer][sample_n][head][token_throat][token_cancer]"
   ]
  },
  {
   "cell_type": "code",
   "execution_count": 26,
   "metadata": {},
   "outputs": [
    {
     "data": {
      "text/plain": [
       "torch.Size([34, 34])"
      ]
     },
     "execution_count": 26,
     "metadata": {},
     "output_type": "execute_result"
    }
   ],
   "source": [
    "attention[layer][sample_n][head].size()"
   ]
  },
  {
   "cell_type": "code",
   "execution_count": 27,
   "metadata": {},
   "outputs": [
    {
     "data": {
      "text/plain": [
       "tensor(1.0000)"
      ]
     },
     "execution_count": 27,
     "metadata": {},
     "output_type": "execute_result"
    }
   ],
   "source": [
    "# There's a softmax, so, the sum should be 1 \n",
    "attention[layer][sample_n][head][token_throat].sum()"
   ]
  },
  {
   "cell_type": "code",
   "execution_count": 28,
   "metadata": {},
   "outputs": [
    {
     "data": {
      "text/plain": [
       "tensor(1.)"
      ]
     },
     "execution_count": 28,
     "metadata": {},
     "output_type": "execute_result"
    }
   ],
   "source": [
    "attention[layer][sample_n][head][token_cancer].sum()"
   ]
  },
  {
   "cell_type": "markdown",
   "metadata": {},
   "source": [
    "# Exercises\n",
    "\n",
    " 1. Examine the model architecture depicted below identify the number of tokens, embeddings dimensions, position embeddings, number of layers, number of heads,  etc.\n",
    " 2. Draw the architecture of this Transformer encoder."
   ]
  },
  {
   "cell_type": "code",
   "execution_count": 29,
   "metadata": {
    "jp-MarkdownHeadingCollapsed": true,
    "tags": []
   },
   "outputs": [
    {
     "name": "stdout",
     "output_type": "stream",
     "text": [
      "BertForSequenceClassification(\n",
      "  (bert): BertModel(\n",
      "    (embeddings): BertEmbeddings(\n",
      "      (word_embeddings): Embedding(30522, 768, padding_idx=0)\n",
      "      (position_embeddings): Embedding(512, 768)\n",
      "      (token_type_embeddings): Embedding(2, 768)\n",
      "      (LayerNorm): LayerNorm((768,), eps=1e-12, elementwise_affine=True)\n",
      "      (dropout): Dropout(p=0.1, inplace=False)\n",
      "    )\n",
      "    (encoder): BertEncoder(\n",
      "      (layer): ModuleList(\n",
      "        (0-11): 12 x BertLayer(\n",
      "          (attention): BertAttention(\n",
      "            (self): BertSdpaSelfAttention(\n",
      "              (query): Linear(in_features=768, out_features=768, bias=True)\n",
      "              (key): Linear(in_features=768, out_features=768, bias=True)\n",
      "              (value): Linear(in_features=768, out_features=768, bias=True)\n",
      "              (dropout): Dropout(p=0.1, inplace=False)\n",
      "            )\n",
      "            (output): BertSelfOutput(\n",
      "              (dense): Linear(in_features=768, out_features=768, bias=True)\n",
      "              (LayerNorm): LayerNorm((768,), eps=1e-12, elementwise_affine=True)\n",
      "              (dropout): Dropout(p=0.1, inplace=False)\n",
      "            )\n",
      "          )\n",
      "          (intermediate): BertIntermediate(\n",
      "            (dense): Linear(in_features=768, out_features=3072, bias=True)\n",
      "            (intermediate_act_fn): GELUActivation()\n",
      "          )\n",
      "          (output): BertOutput(\n",
      "            (dense): Linear(in_features=3072, out_features=768, bias=True)\n",
      "            (LayerNorm): LayerNorm((768,), eps=1e-12, elementwise_affine=True)\n",
      "            (dropout): Dropout(p=0.1, inplace=False)\n",
      "          )\n",
      "        )\n",
      "      )\n",
      "    )\n",
      "    (pooler): BertPooler(\n",
      "      (dense): Linear(in_features=768, out_features=768, bias=True)\n",
      "      (activation): Tanh()\n",
      "    )\n",
      "  )\n",
      "  (dropout): Dropout(p=0.1, inplace=False)\n",
      "  (classifier): Linear(in_features=768, out_features=2, bias=True)\n",
      ")\n"
     ]
    }
   ],
   "source": [
    "print(model)"
   ]
  }
 ],
 "metadata": {
  "colab": {
   "collapsed_sections": [],
   "name": "model_view_bert_msmarco_aula.ipynb",
   "provenance": []
  },
  "kernelspec": {
   "display_name": "nlp-cv-ir",
   "language": "python",
   "name": "python3"
  },
  "language_info": {
   "codemirror_mode": {
    "name": "ipython",
    "version": 3
   },
   "file_extension": ".py",
   "mimetype": "text/x-python",
   "name": "python",
   "nbconvert_exporter": "python",
   "pygments_lexer": "ipython3",
   "version": "3.12.2"
  },
  "toc-autonumbering": true,
  "toc-showmarkdowntxt": false
 },
 "nbformat": 4,
 "nbformat_minor": 4
}
